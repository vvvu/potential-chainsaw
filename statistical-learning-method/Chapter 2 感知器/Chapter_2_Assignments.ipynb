{
  "nbformat": 4,
  "nbformat_minor": 0,
  "metadata": {
    "colab": {
      "name": "Chapter 2 Assignments.ipynb",
      "provenance": [],
      "collapsed_sections": [],
      "authorship_tag": "ABX9TyNGkwa/qELY4+ogj11VRnWH",
      "include_colab_link": true
    },
    "kernelspec": {
      "name": "python3",
      "display_name": "Python 3"
    },
    "language_info": {
      "name": "python"
    }
  },
  "cells": [
    {
      "cell_type": "markdown",
      "metadata": {
        "id": "view-in-github",
        "colab_type": "text"
      },
      "source": [
        "<a href=\"https://colab.research.google.com/github/vvvu/potential-chainsaw/blob/main/statistical-learning-method/Chapter%202%20%E6%84%9F%E7%9F%A5%E5%99%A8/Chapter_2_Assignments.ipynb\" target=\"_parent\"><img src=\"https://colab.research.google.com/assets/colab-badge.svg\" alt=\"Open In Colab\"/></a>"
      ]
    },
    {
      "cell_type": "markdown",
      "metadata": {
        "id": "MbBpDR3ksp4m"
      },
      "source": [
        "**2.1** Minsky与Papert指出：Perceptron因为是线性模型，所以不能表示复杂的函数，如异或（XOR）。验证感知机为什么不能表示异或。\n",
        "\n",
        "异或函数的输入输出为下表：\n",
        "\n",
        "|$x_1$| $x_2$|y|\n",
        "|-|--|-|\n",
        "| 1 |1| 0   |\n",
        "| 1   | 0     | 1   |\n",
        "| 0   | 1 | 1   |\n",
        "|0|0|0|\n",
        "\n",
        "所以我们只需要讨论上述几个点是否是线性可分即可，决策平面为横轴是$x_1$，纵轴是$x_2$构成的二维平面："
      ]
    },
    {
      "cell_type": "code",
      "metadata": {
        "colab": {
          "base_uri": "https://localhost:8080/",
          "height": 281
        },
        "id": "K6VzzdsVpC8c",
        "outputId": "990d3ad5-3946-4a78-b287-80f0a17ca9ea"
      },
      "source": [
        "import numpy as np\n",
        "import pandas as pd\n",
        "import matplotlib.pyplot as plt\n",
        "\n",
        "'''\n",
        "y = 0\n",
        "'''\n",
        "x1_0 = np.array([1, 0])\n",
        "x2_0 = np.array([1, 0])\n",
        "\n",
        "'''\n",
        "y = 1\n",
        "'''\n",
        "x1_1 = np.array([1, 0])\n",
        "x2_1 = np.array([0, 1])\n",
        "\n",
        "fig = plt.figure()\n",
        "ax = fig.add_subplot(111)\n",
        "\n",
        "plt.xlabel('$x_1$')\n",
        "plt.ylabel('$x_2$')\n",
        "\n",
        "ax.scatter(x = x1_0, y = x2_0)\n",
        "ax.scatter(x = x1_1, y = x2_1)\n",
        "plt.show()"
      ],
      "execution_count": 5,
      "outputs": [
        {
          "output_type": "display_data",
          "data": {
            "image/png": "[encoded data removed]",
            "text/plain": [
              "<Figure size 432x288 with 1 Axes>"
            ]
          },
          "metadata": {
            "tags": [],
            "needs_background": "light"
          }
        }
      ]
    },
    {
      "cell_type": "markdown",
      "metadata": {
        "id": "BymwxnOSqY4L"
      },
      "source": [
        "根据上图所示，该数据集**不具备线性可分性**，所以Perceptron作为线性模型无法表示异或运算（XOR）"
      ]
    },
    {
      "cell_type": "markdown",
      "metadata": {
        "id": "2LnG44xKs9dW"
      },
      "source": [
        "**2.2** 模仿例题2.1，构建从训练集求解Perceptron的例子。"
      ]
    },
    {
      "cell_type": "code",
      "metadata": {
        "colab": {
          "base_uri": "https://localhost:8080/"
        },
        "id": "EeiQxKAJq63_",
        "outputId": "78c8e539-1bdf-44c8-ed2e-b3126e212978"
      },
      "source": [
        "import numpy as np\n",
        "import random\n",
        "\n",
        "# Perceptron Implemented in Python\n",
        "\n",
        "X = np.array([[3, 3], [4, 3], [1, 1]])\n",
        "Y = np.array([1, 1, -1])\n",
        "\n",
        "weights = np.zeros(2)\n",
        "bias = np.zeros(1)\n",
        "lr = 1 # learning rate\n",
        "\n",
        "def isClassified(X, Y, w, b) -> bool:\n",
        "  '''\n",
        "  Check if all points are correctly classified\n",
        "  '''\n",
        "  for x in X:\n",
        "    if np.multiply(y, np.add(np.dot(w, x), b)) <= 0:\n",
        "      return False\n",
        "  return True\n",
        "\n",
        "n = len(X)\n",
        "while True:\n",
        "  # Random select x from X\n",
        "  index = random.randint(0, 2)\n",
        "  x = X[index]\n",
        "  y = Y[index]\n",
        "  if np.multiply(y, np.add(np.dot(weights, x), bias)) <= 0:\n",
        "    weights -= lr * x * y\n",
        "    bias -= lr * y\n",
        "  if isClassified(X, Y, weights, bias) == True:\n",
        "    break\n",
        "\n",
        "print(\"w: \", weights, \"\\nb: \", bias)"
      ],
      "execution_count": 63,
      "outputs": [
        {
          "output_type": "stream",
          "text": [
            "w:  [-7. -6.] \n",
            "b:  [-2.]\n"
          ],
          "name": "stdout"
        }
      ]
    },
    {
      "cell_type": "code",
      "metadata": {
        "colab": {
          "base_uri": "https://localhost:8080/"
        },
        "id": "dji-iz5kLBMD",
        "outputId": "f48702ed-ac1a-4f8e-e545-5f62f805c84f"
      },
      "source": [
        "# Perceptron Implemented in Sklearn\n",
        "\n",
        "from sklearn.linear_model import Perceptron\n",
        "import numpy as np\n",
        "\n",
        "X = np.array([[3, 3], [4, 3], [1, 1]])\n",
        "Y = np.array([1, 1, -1])\n",
        "\n",
        "perceptron_model = Perceptron()\n",
        "perceptron_model.fit(X, Y)\n",
        "print(\"w:\", perceptron_model.coef_, \"\\nb:\", perceptron_model.intercept_, \"\\n\")"
      ],
      "execution_count": 64,
      "outputs": [
        {
          "output_type": "stream",
          "text": [
            "w: [[1. 0.]] \n",
            "b: [-2.] \n",
            "\n"
          ],
          "name": "stdout"
        }
      ]
    },
    {
      "cell_type": "markdown",
      "metadata": {
        "id": "n6SCcTA2tC6U"
      },
      "source": [
        "**2.3** 证明以下定理：样本集线性可分的充分必要条件是正实例点集所构成的凸壳与负实例点集所构成的凸壳互不相交。\n",
        "\n",
        "凸壳定义为：\n",
        "设集合$S \\subset R^n$是由$R^n$中的$k$个点组成的集合，即$S=\\{x_1,x_2,···,x_k\\}$。定义S的凸壳为$conv(S)$为\n",
        "\n",
        "$$\n",
        "conv(S) = \\{x = \\sum_{i=1}^k\\lambda_ix_i |\\sum_{i=1}^k \\lambda_i=1, \\lambda_i \\geq 0, i = 1,2,···,k \\}\n",
        "$$\n",
        "\n",
        "线性可分定义为：\n",
        "给定一个数据集\n",
        "\n",
        "$$\n",
        "T = \\{(x_1,y_1), (x_2,y_2), ···, (x_N,y_N)\\}\n",
        "$$\n",
        "\n",
        "其中 $x_i \\in X = R^n, y_i \\in Y = \\{+1,-1\\}$，如果存在某个超平面$S$能将数据集的正负实例点完全正确地分到超平面的两侧，则称线性可分。也就是说，对于所有$y_i = +1$的实例，有$w·x_i + b > 0$，对所有$y_i = -1$的实例，有$w·x_i + b < 0$"
      ]
    },
    {
      "cell_type": "markdown",
      "metadata": {
        "id": "W_t9LOF7My-6"
      },
      "source": [
        "#### 2.3.1 必要性证明：线性可分 => 凸壳互不相交\n",
        "假设正实例点集为$S_+$，负实例点集为$S_-$，若数据集T是线性可分的，则存在一个超平面将$S_+$和$S_-$完全分离，超平面为：\n",
        "\n",
        "$$\n",
        "w · x + b = 0\n",
        "$$\n",
        "\n",
        "则对于所有的$S_+$，有\n",
        "\n",
        "$$\n",
        "w·x_i + b = \\epsilon_i, \\text{where } \\epsilon_i > 0\n",
        "$$\n",
        "\n",
        "则对于所有的$S_-$，有\n",
        "\n",
        "$$\n",
        "w·x_i + b = \\epsilon_i, \\text{where } \\eta_i < 0\n",
        "$$\n",
        "\n",
        "如果凸壳相交，则一定存在一个点$s \\in S_+$且$s \\in S_-$，则这个点$s = (x, y)$同时满足\n",
        "\n",
        "$$\n",
        "w·x + b = \\epsilon > 0\n",
        "$$\n",
        "且\n",
        "$$\n",
        "w·x + b = \\eta < 0\n",
        "$$\n",
        "\n",
        "显然不成立。\n",
        "\n",
        "#### 2.3.2 充分性证明：凸壳互不相交 => 线性可分\n",
        "定义凸壳之间的最近距离为：\n",
        "$$\n",
        "dist(conv(S_+), conv(S_-) = \\min \\sqrt{(x_+ - x_-)^2 + (y_+ - y_-)^2}, \\text{where } (x_+,y_+) \\in S_+, (x_-, y_-) \\in S_- \\\\ s_+ = (x_+,y_+),s_- = (x_-,y_-)\n",
        "$$\n",
        "因为题目前提为凸壳不相交，所以\n",
        "$$dist(conv(S_+), conv(S_-) > 0$$\n",
        "\n",
        "假设现在有一个超平面：\n",
        "$$\n",
        "w·x + b = 0\n",
        "$$\n",
        "\n",
        "其中\n",
        "$$\n",
        "w = s_+ + s_-, b = -\\frac{s_+·s_+-s_-·s_-}{2}\n",
        "$$\n",
        "代入得，\n",
        "\n",
        "$$\n",
        "w·x+b = \\frac{dist(x,s_-)^2 - dist(x,s_+)^2}{2}\n",
        "$$\n",
        "\n",
        "对于任意在正凸壳中的点$x_+$，显然\n",
        "$$\n",
        "w·x_++b > 0\n",
        "$$\n",
        "同样的道理，对于任意在的负凸壳中的点$x_-$，有\n",
        "$$\n",
        "w·x_-+b < 0\n",
        "$$\n",
        "故充分性得证"
      ]
    }
  ]
}