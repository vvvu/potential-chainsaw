{
  "nbformat": 4,
  "nbformat_minor": 0,
  "metadata": {
    "colab": {
      "name": "Chpater 3 notes.ipynb",
      "provenance": [],
      "collapsed_sections": [],
      "authorship_tag": "ABX9TyMM6KFriIOC2+BvHAxAyy+2",
      "include_colab_link": true
    },
    "kernelspec": {
      "name": "python3",
      "display_name": "Python 3"
    },
    "language_info": {
      "name": "python"
    }
  },
  "cells": [
    {
      "cell_type": "markdown",
      "metadata": {
        "id": "view-in-github",
        "colab_type": "text"
      },
      "source": [
        "<a href=\"https://colab.research.google.com/github/vvvu/potential-chainsaw/blob/main/Chapter%203%20k%E8%BF%91%E9%82%BB%E6%B3%95/Chpater_3_notes.ipynb\" target=\"_parent\"><img src=\"https://colab.research.google.com/assets/colab-badge.svg\" alt=\"Open In Colab\"/></a>"
      ]
    },
    {
      "cell_type": "markdown",
      "metadata": {
        "id": "yaAXbqOhWrrD"
      },
      "source": [
        "### 一、基本概念\n",
        "- **一句话总结**：选择离输入点最近的K个点，哪一种class label的点越多，输入点就归属于哪一种class label\n",
        "- k近邻法（k-nearest neighbor, k-NN）是一种基本「分类与回归」方法，本章**只讨论分类问题中的k近邻法**\n",
        "\n",
        "- kNN不具有显式的学习过程，其**实际上是利用数据集对特征空间进行划分**\n",
        "\n",
        "- k近邻的**三个基本要素**\n",
        "  1. k值的选择\n",
        "  2. 距离度量\n",
        "  3. 分类决策规则\n",
        "  \n",
        "- k近邻的基本做法：在空间中已有`training set`的情况下，对空间中新输入的输入点`s`，首先确定输入点`s`的k个在`training set`中的最近邻点 $p \\in \\text{training\\ set}$，然后根据这个k个点的所属类别的多寡来决定当前输入点的`s`的类别\n",
        "  \n",
        "  - 最近邻法：$k = 1$ 时的特殊情况，即离输入点最近的训练点作为输入点的类别\n",
        "  \n",
        "- k近邻模型\n",
        "  - cell - 单元，每个训练实例点 $x_i$ 都拥有一个单元。一个cell是空间中的一个区域，在该区域中的点，离$x_i$点的距离比离训练实例中其他任何点的距离都要近。\n",
        "  - class label - 综上，最近邻法将实例 $x_i$ 的类 $y_i$ 作为其单元中所有点的类标记`class label`，所以新进入的点如果在当前 $x_i$ 所对应的cell中，我们就认为它的`class label`等同于 $x_i$ 的`class label`\n",
        "\n",
        "- **基本三要素**\n",
        "  1. 距离度量：特征空间中的距离度量常常是两个实例点相似程度的反映，距离度量公式如下**「注意：不同的距离度量所确定的最近邻点是不同的」**\n",
        "\n",
        "     其中，$p$ 的不同取值代表不同的距离\n",
        "\n",
        "     - p = 1, Manhattan distance\n",
        "     - p = 2, Euclidean distance，欧氏距离也是我们一般使用的距离度量\n",
        "     - p = $\\infty$, 各个坐标的最大值\n",
        "  $$\n",
        "  L_p(x_i, x_j) = (\\sum_{l=1}^n|x_{i}^{(l)} - x_{j}^{(l)}|^p)^\\frac{1}{p}, \\text{where } p \\geq.1\n",
        "  $$\n",
        "  2. k值的选择\n",
        "\n",
        "     - k值较小：Model复杂，容易overfitting\n",
        "     - k值较大：Model简单\n",
        "\n",
        "     特殊情况：$k = N$时，$N$ 代表类别的个数。此时模型过于简单，忽略大量有效信息，不可取\n",
        "\n",
        "     **应用：**k值一般取一个较小的数值，通过**交叉验证法**来选择最优的k值\n",
        "\n",
        "  3. 分类决策规则：一般情况下为**多数表决**"
      ]
    },
    {
      "cell_type": "code",
      "metadata": {
        "id": "_qQMmZhVhNSx"
      },
      "source": [
        "import numpy as np\n",
        "import pandas as pd\n",
        "\n",
        "'''\n",
        "1. 朴素kNN算法，没有使用kd-tree进行优化\n",
        "'''\n",
        "class kNN:\n",
        "  def __init__(self, x_train_instance, y_train_instance, k_neighbors = 3, p = 2):\n",
        "    \"\"\"\n",
        "    parameter: p 距离度量\n",
        "    \"\"\"\n",
        "    self.k = k_neighbors\n",
        "    self.p = p\n",
        "    self.x_train_instance = x_train_instance # 训练实例点的坐标\n",
        "    self.y_train_instance = y_train_instance # 训练实例点的class label\n",
        "\n",
        "  def predict(self, x):\n",
        "    \"\"\"\n",
        "    预测输入点x的class label\n",
        "    \"\"\"\n",
        "    # 取出k_neighbors个最近点的class label\n",
        "    k_dist_list = []\n",
        "    for i in range(len(self.x_train_instance)):\n",
        "      # 计算和所有x_train_instance的距离，排序，取前k\n",
        "      # 优化：K smallest elements in an array\n",
        "      dist = np.linalg.norm(x - self.x_train_instance[i], ord = self.p) # 距离度量公式\n",
        "      k_dist_list.append((dist, self.y_train_instance[i])) # (距离，class label)\n",
        "\n",
        "    k_dist_list.sort() # 对第一个元素进行排序\n",
        "\n",
        "    k_neighbor_label = []\n",
        "    for i in range(self.k):\n",
        "      k_neighbor_label.append(k_dist_list[i][1])\n",
        "\n",
        "    # 获取list中出现次数最多的class label\n",
        "    max_label = max(k_neighbor_label, key = k_neighbor_label.count)\n",
        "    return max_label\n",
        "\n",
        "  def score(self, X_test, y_test):\n",
        "    correct = 0\n",
        "    for X, y in zip(X_test, y_test):\n",
        "      predicted_label = self.predict(X)\n",
        "      if predicted_label == y:\n",
        "        correct += 1\n",
        "    return correct / len(X_test)"
      ],
      "execution_count": 10,
      "outputs": []
    },
    {
      "cell_type": "code",
      "metadata": {
        "colab": {
          "base_uri": "https://localhost:8080/",
          "height": 419
        },
        "id": "2NrxLa-DlCfk",
        "outputId": "8e667a2f-686a-4311-d7a8-e2d04478cb86"
      },
      "source": [
        "from sklearn.datasets import load_iris\n",
        "from sklearn.model_selection import train_test_split\n",
        "\n",
        "iris = load_iris()\n",
        "df = pd.DataFrame(iris.data, columns = iris.feature_names)\n",
        "df['label'] = iris.target\n",
        "df.columns = ['sepal length', 'sepal width', 'petal length', 'petal width', 'label']\n",
        "df"
      ],
      "execution_count": 11,
      "outputs": [
        {
          "output_type": "execute_result",
          "data": {
            "text/html": [
              "<div>\n",
              "<style scoped>\n",
              "    .dataframe tbody tr th:only-of-type {\n",
              "        vertical-align: middle;\n",
              "    }\n",
              "\n",
              "    .dataframe tbody tr th {\n",
              "        vertical-align: top;\n",
              "    }\n",
              "\n",
              "    .dataframe thead th {\n",
              "        text-align: right;\n",
              "    }\n",
              "</style>\n",
              "<table border=\"1\" class=\"dataframe\">\n",
              "  <thead>\n",
              "    <tr style=\"text-align: right;\">\n",
              "      <th></th>\n",
              "      <th>sepal length</th>\n",
              "      <th>sepal width</th>\n",
              "      <th>petal length</th>\n",
              "      <th>petal width</th>\n",
              "      <th>label</th>\n",
              "    </tr>\n",
              "  </thead>\n",
              "  <tbody>\n",
              "    <tr>\n",
              "      <th>0</th>\n",
              "      <td>5.1</td>\n",
              "      <td>3.5</td>\n",
              "      <td>1.4</td>\n",
              "      <td>0.2</td>\n",
              "      <td>0</td>\n",
              "    </tr>\n",
              "    <tr>\n",
              "      <th>1</th>\n",
              "      <td>4.9</td>\n",
              "      <td>3.0</td>\n",
              "      <td>1.4</td>\n",
              "      <td>0.2</td>\n",
              "      <td>0</td>\n",
              "    </tr>\n",
              "    <tr>\n",
              "      <th>2</th>\n",
              "      <td>4.7</td>\n",
              "      <td>3.2</td>\n",
              "      <td>1.3</td>\n",
              "      <td>0.2</td>\n",
              "      <td>0</td>\n",
              "    </tr>\n",
              "    <tr>\n",
              "      <th>3</th>\n",
              "      <td>4.6</td>\n",
              "      <td>3.1</td>\n",
              "      <td>1.5</td>\n",
              "      <td>0.2</td>\n",
              "      <td>0</td>\n",
              "    </tr>\n",
              "    <tr>\n",
              "      <th>4</th>\n",
              "      <td>5.0</td>\n",
              "      <td>3.6</td>\n",
              "      <td>1.4</td>\n",
              "      <td>0.2</td>\n",
              "      <td>0</td>\n",
              "    </tr>\n",
              "    <tr>\n",
              "      <th>...</th>\n",
              "      <td>...</td>\n",
              "      <td>...</td>\n",
              "      <td>...</td>\n",
              "      <td>...</td>\n",
              "      <td>...</td>\n",
              "    </tr>\n",
              "    <tr>\n",
              "      <th>145</th>\n",
              "      <td>6.7</td>\n",
              "      <td>3.0</td>\n",
              "      <td>5.2</td>\n",
              "      <td>2.3</td>\n",
              "      <td>2</td>\n",
              "    </tr>\n",
              "    <tr>\n",
              "      <th>146</th>\n",
              "      <td>6.3</td>\n",
              "      <td>2.5</td>\n",
              "      <td>5.0</td>\n",
              "      <td>1.9</td>\n",
              "      <td>2</td>\n",
              "    </tr>\n",
              "    <tr>\n",
              "      <th>147</th>\n",
              "      <td>6.5</td>\n",
              "      <td>3.0</td>\n",
              "      <td>5.2</td>\n",
              "      <td>2.0</td>\n",
              "      <td>2</td>\n",
              "    </tr>\n",
              "    <tr>\n",
              "      <th>148</th>\n",
              "      <td>6.2</td>\n",
              "      <td>3.4</td>\n",
              "      <td>5.4</td>\n",
              "      <td>2.3</td>\n",
              "      <td>2</td>\n",
              "    </tr>\n",
              "    <tr>\n",
              "      <th>149</th>\n",
              "      <td>5.9</td>\n",
              "      <td>3.0</td>\n",
              "      <td>5.1</td>\n",
              "      <td>1.8</td>\n",
              "      <td>2</td>\n",
              "    </tr>\n",
              "  </tbody>\n",
              "</table>\n",
              "<p>150 rows × 5 columns</p>\n",
              "</div>"
            ],
            "text/plain": [
              "     sepal length  sepal width  petal length  petal width  label\n",
              "0             5.1          3.5           1.4          0.2      0\n",
              "1             4.9          3.0           1.4          0.2      0\n",
              "2             4.7          3.2           1.3          0.2      0\n",
              "3             4.6          3.1           1.5          0.2      0\n",
              "4             5.0          3.6           1.4          0.2      0\n",
              "..            ...          ...           ...          ...    ...\n",
              "145           6.7          3.0           5.2          2.3      2\n",
              "146           6.3          2.5           5.0          1.9      2\n",
              "147           6.5          3.0           5.2          2.0      2\n",
              "148           6.2          3.4           5.4          2.3      2\n",
              "149           5.9          3.0           5.1          1.8      2\n",
              "\n",
              "[150 rows x 5 columns]"
            ]
          },
          "metadata": {
            "tags": []
          },
          "execution_count": 11
        }
      ]
    },
    {
      "cell_type": "code",
      "metadata": {
        "id": "4ylP3H2alfjV"
      },
      "source": [
        "data = np.array(df.iloc[:100, [0, 1, -1]])\n",
        "X, y = data[:,:-1], data[:,-1]\n",
        "X_train, X_test, y_train, y_test = train_test_split(X, y, test_size=0.2)"
      ],
      "execution_count": 12,
      "outputs": []
    },
    {
      "cell_type": "code",
      "metadata": {
        "colab": {
          "base_uri": "https://localhost:8080/"
        },
        "id": "FpM73XlVlk8k",
        "outputId": "01f580cf-05a1-4628-b04b-aacb0036dcd6"
      },
      "source": [
        "clf = kNN(X_train, y_train) # 存入测试样例（实际上kNN没有显式学习过程，这一步只是单纯存入数据）\n",
        "clf.score(X_test, y_test) # 1.0，说明分类准确"
      ],
      "execution_count": 13,
      "outputs": [
        {
          "output_type": "execute_result",
          "data": {
            "text/plain": [
              "0.95"
            ]
          },
          "metadata": {
            "tags": []
          },
          "execution_count": 13
        }
      ]
    },
    {
      "cell_type": "markdown",
      "metadata": {
        "id": "Df0TPIZAmOwu"
      },
      "source": [
        "### 二、疑难解释 - 构造和搜索kd-tree\n",
        "\n",
        "- 不同的 **k** 的含义：kd-tree的 **k** 指的是 k 维空间，kNN的 **k** 指的是最近的 k 个邻居\n",
        "\n",
        "- kd-tree解决的问题：**如何对训练数据进行快速k近邻搜索**，在维度大以及训练数据容量大时尤为重要\n",
        "\n",
        "- 定义：kd-tree是一种对**k维空间**中的点进行存储以便对其进行快速检索的树形数据结构\n",
        "  1. 是一种二叉树，表示对k维空间的一种划分（partition），本质相当于构造kd-tree不断用垂直于某个维度的坐标轴的超平面进行切分，构成一系列k维超矩形区域\n",
        "  2. 划分原则：如果选取对应维度的坐标轴上的中点（median），则划分得到的为**平衡kd-tree**\n",
        "\n",
        "- 平衡kd-tree\n",
        "  - 平衡kd-tree的搜索效率未必是最优的「因为数据集在空间中的分布是不均匀的，导致新输入的数据点的`class label`不能直接由其叶子结点决定，很多时候我们还需要去搜索其父节点的另一叶子结点」\n",
        "  - 中位数的选择：要选择实际存在的点，例如$[2,5,9,4,8,7]$，其中位数为$6$但其并没有对应**实际存在的点**，所以我们选择的中位数为$7$\n",
        "\n",
        "#### 1. 构造kd-tree\n",
        "\n",
        "- 常规kd-tree的构造\n",
        "  1. 构造根节点，根节点对应k维空间中包含所有实例的超矩形区域\n",
        "  2. 递归构造：选择一个坐标轴和此坐标轴上的**一个切分点**，确定一个垂直于该坐标轴的超平面将该超矩形分割。此时实例被分到左右两个子区域（子节点），这个过程直到子区域内没有实例时停止\n",
        "\n",
        "- 平衡kd-tree的构造\n",
        "  1. 构造根节点，选择维度$n=1$作为第一次分割的坐标轴，选取切分点`median`，得到深度为1的左、右子节点：其中左子节点对应坐标小于`median`的作为左子节点，反之作为右子节点\n",
        "  2. 递归构造：对深度为$j$的节点，选择维度$n = l$作为切分的坐标轴，其中$l = j \\mod k + l$，$k$ 代表 $k$ 维空间\n",
        "\n",
        "#### 2. 搜索kd-tree\n",
        "利用kd-tree优化最近邻搜索问题：\n",
        "- 输入：已构造的kd-tree，目标点x\n",
        "- 输出：x的最近邻\n",
        "搜索步骤：\n",
        "1. 从root开始，根据target_point在对应分割维度axis上是否小于/大于当前节点，分别向左或者向右遍历\n",
        "2. 一旦算法到达leaf node，我们认为leaf node是「当前最近点」，即距离target node最近的点\n",
        "3. 向上回溯\n",
        "4. 如果回溯的过程中遇到的节点，比「当前最近点」离target node更近，那么它就称为当前最近点\n",
        "5. ⭐️在适当的情况下判断兄弟节点：以target node为球心，「当前最近点」到target node的距离为radius，组成超球体c（最近点一定在超球体中）。判断兄弟节点的区域是否和超球体c相交：\n",
        "  1. 「超球体c和其父节点所代表的分割超平面相交」：说明兄弟节点代表的区域中，可能有距离target_node更近的点\n",
        "  2. 「超球体c和其父节点所代表的分割超平面不相交」：说明兄弟节点的区域和超球体c完全没有关联，不可能存在距离target_node更近的点"
      ]
    },
    {
      "cell_type": "code",
      "metadata": {
        "colab": {
          "base_uri": "https://localhost:8080/"
        },
        "id": "rxxSiMU9tsxV",
        "outputId": "7c9b9435-2bd3-40d8-90bc-6d5aeceec48c"
      },
      "source": [
        "class kdNode:\n",
        "  def __init__(self, location, axis, left, right):\n",
        "    self.location = location # 节点位置\n",
        "    self.axis = axis # 分隔时该节点以哪个axis为基础进行分割\n",
        "    self.left = left\n",
        "    self.right = right\n",
        "\n",
        "class kdTree:\n",
        "  def __init__(self, data):\n",
        "    k = len(data[0]) # 数据维度，k dimension\n",
        "\n",
        "    def buildTree(axis, dataset):\n",
        "      '''\n",
        "      1. 按照第axis维进行分割dataset\n",
        "      '''\n",
        "      if not dataset:\n",
        "        return None\n",
        "\n",
        "      # Sort data and choose median as pivot element to build balanced kd-tree\n",
        "      dataset.sort(key = lambda x: x[axis])\n",
        "      median_pos = len(dataset) // 2\n",
        "      median = dataset[median_pos]\n",
        "      \n",
        "      new_axis = (axis + 1) % k # 选择下一个用来分割的维度\n",
        "      return kdNode(median, axis,\n",
        "                    buildTree(new_axis, dataset[:median_pos]),\n",
        "                    buildTree(new_axis, dataset[median_pos + 1:]))\n",
        "\n",
        "    self.root = buildTree(0, data) # 从第0维开始构建kd-tree，返回root\n",
        "    \n",
        "def kdTreePreOrder(kdRoot):\n",
        "  print(kdRoot.location)\n",
        "  if kdRoot.left:\n",
        "    kdTreePreOrder(kdRoot.left)\n",
        "  if kdRoot.right:\n",
        "    kdTreePreOrder(kdRoot.right)\n",
        "\n",
        "'''\n",
        "Test kd-tree\n",
        "'''\n",
        "data = [[2, 3], [5, 4], [9, 6], [4, 7], [8, 1], [7, 2]]\n",
        "kdtree = kdTree(data)\n",
        "kdTreePreOrder(kdtree.root)"
      ],
      "execution_count": 14,
      "outputs": [
        {
          "output_type": "stream",
          "text": [
            "[7, 2]\n",
            "[5, 4]\n",
            "[2, 3]\n",
            "[4, 7]\n",
            "[9, 6]\n",
            "[8, 1]\n"
          ],
          "name": "stdout"
        }
      ]
    },
    {
      "cell_type": "code",
      "metadata": {
        "id": "fNpX00tfqsvO"
      },
      "source": [
        "# #### 2. 搜索kd-tree\n",
        "# 利用kd-tree优化最近邻搜索问题：\n",
        "# - 输入：已构造的kd-tree，目标点x\n",
        "# - 输出：x的最近邻\n",
        "# 搜索步骤：\n",
        "# 1. 从root开始，根据target_point在对应分割维度axis上是否小于/大于当前节点，分别向左或者向右遍历\n",
        "# 2. 一旦算法到达leaf node，我们认为leaf node是「当前最近点」，即距离target node最近的点\n",
        "# 3. 向上回溯\n",
        "# 4. 如果回溯的过程中遇到的节点，比「当前最近点」离target node更近，那么它就称为当前最近点\n",
        "# 5. 在适当的情况下判断兄弟节点：以target node为球心，「当前最近点」到target node的距离为radius，组成超球体c（最近点一定在超球体中）。判断兄弟节点的区域是否和超球体c相交：\n",
        "#   1. 「超球体c和其父节点所代表的分割超平面相交」：说明兄弟节点代表的区域中，可能有距离target_node更近的点\n",
        "#   2. 「超球体c和其父节点所代表的分割超平面不相交」：说明兄弟节点的区域和超球体c完全没有关联，不可能存在距离target_node更近的点\n",
        "\n",
        "def eudist(point1, point2): # point1, point2的欧氏距离\n",
        "  return sqrt(sum((p1 - p2)**2 for p1, p2 in zip(point1, point2)))\n",
        "\n",
        "'''\n",
        "Original Code Snippets:\n",
        "https://nbviewer.jupyter.org/github/fengdu78/lihang-code/blob/master/%E7%AC%AC03%E7%AB%A0%20k%E8%BF%91%E9%82%BB%E6%B3%95/3.KNearestNeighbors.ipynb\n",
        "\n",
        "对构建好的kd树进行搜索，寻找与目标点最近的样本点\n",
        "'''\n",
        "from math import sqrt\n",
        "from collections import namedtuple\n",
        "\n",
        "# 定义一个增强版的tuple - namedtuple，分别存放\n",
        "'''\n",
        "（1）最近坐标点\n",
        "（2）最近距离\n",
        "（3）访问过的节点数\n",
        "'''\n",
        "result = namedtuple(\"Result_tuple\", \n",
        "                    \"nearest_point  nearest_dist  nodes_visited\")\n",
        "\n",
        "def find_nearest(tree, target_node):\n",
        "  k = len(target_node) # 数据维度\n",
        "\n",
        "  def traverse(kdnode, target_node, radius):\n",
        "    '''\n",
        "    radius代表前文提到的超球体的半径\n",
        "    '''\n",
        "    if kdnode is None:\n",
        "      return result([0] * k, float(\"inf\"), 0)\n",
        "      '''\n",
        "      if kdnode is None:\n",
        "        最近坐标点：[0] * k\n",
        "        最近距离：float(\"inf\")\n",
        "        访问过的节点数：0\n",
        "      '''\n",
        "      \n",
        "    nodes_visited = 1\n",
        "\n",
        "    axis = kdnode.axis # 进行分割的维度\n",
        "    pivot = kdnode.location # 分割点\n",
        "\n",
        "    # 1. 从root开始，根据target_node在对应分割维度axis上是否小于/大于当前节点，分别向左或者向右遍历\n",
        "    if target_node[axis] <= pivot[axis]:\n",
        "      shorter_node = kdnode.left\n",
        "      further_node = kdnode.right\n",
        "    else:\n",
        "      shorter_node = kdnode.right\n",
        "      further_node = kdnode.left\n",
        "\n",
        "    # 向下遍历\n",
        "    # 2. 一旦算法到达leaf node，我们认为leaf node是「当前最近点」，即距离target node最近的点\n",
        "    leaf_node = traverse(shorter_node, target_node, radius)\n",
        "    \n",
        "    # 3. 向上回溯\n",
        "    # 4. 如果回溯的过程中遇到的节点，比「当前最近点」离target node更近，那么它就称为当前最近点\n",
        "    nearest = leaf_node.nearest_point # 以此叶节点作为「当前最近点」\n",
        "    dist = leaf_node.nearest_dist # 更新最近距离\n",
        "\n",
        "    nodes_visited += leaf_node.nodes_visited\n",
        "\n",
        "    if dist < radius:\n",
        "      radius = dist # 最近点在以目标点为球心，半径为radius的超球体内\n",
        "\n",
        "    # 5. 在适当的情况下判断兄弟节点：以target node为球心，「当前最近点」到target node的距离为radius，组成超球体c（最近点一定在超球体中）。判断兄弟节点的区域是否和超球体c相交：\n",
        "    #   1. 「超球体c和其父节点所代表的分割超平面相交」：说明兄弟节点代表的区域中，可能有距离target_node更近的点\n",
        "    #   2. 「超球体c和其父节点所代表的分割超平面不相交」：说明兄弟节点的区域和超球体c完全没有关联，不可能存在距离target_node更近的点\n",
        "    \n",
        "    # 判断到超平面的距离\n",
        "    hyperplane_distance = abs(pivot[axis] - target_node[axis])\n",
        "\n",
        "    if radius < hyperplane_distance: # 如果超球体和超平面不相交\n",
        "      return result(nearest, dist, nodes_visited) # 直接返回，说明兄弟节点代表的区域中不可能存在距离target_node更近的点\n",
        "    else: # 相交，判断兄弟节点\n",
        "      # 先判断和其父节点的距离\n",
        "      eu_dist = eudist(pivot, target_node) # 计算target_node和当前分割点pivot的欧氏距离，即其父节点的欧氏距离\n",
        "      if eu_dist < dist: # 和父节点较为接近\n",
        "        nearest = pivot # 更新最近点\n",
        "        dist = eu_dist # 更新最近距离\n",
        "        radius = dist # 更新超球体\n",
        "      # 检查兄弟节点\n",
        "      sibling_node = traverse(further_node, target_node, radius)\n",
        "\n",
        "      nodes_visited += sibling_node.nodes_visited\n",
        "      if sibling_node.nearest_dist < dist: # 如果兄弟节点存在更近距离\n",
        "        nearest = sibling_node.nearest_point # 更新最近点\n",
        "        dist = sibling_node.nearest_dist # 更新最近距离\n",
        "\n",
        "      return result(nearest, dist, nodes_visited)\n",
        "\n",
        "  return traverse(tree.root, target_node, float(\"inf\"))"
      ],
      "execution_count": 15,
      "outputs": []
    },
    {
      "cell_type": "code",
      "metadata": {
        "colab": {
          "base_uri": "https://localhost:8080/"
        },
        "id": "U_nhBDh12ImH",
        "outputId": "e8fa7a52-e5c4-47d3-9c81-3dfde40a9f0d"
      },
      "source": [
        "'''\n",
        "Test\n",
        "'''\n",
        "\n",
        "from time import clock\n",
        "from random import random\n",
        "\n",
        "def random_vector(k, n):\n",
        "  '''\n",
        "  产生n个k维随机向量，每个维度的值在[0-1]之间\n",
        "  '''\n",
        "  def random_point(k):\n",
        "    return [random() for _ in range(k)]\n",
        "\n",
        "  return [random_point(k) for _ in range(n)]\n",
        "\n",
        "N = 100000\n",
        "t0 = clock()\n",
        "random_kdtree = kdTree(random_vector(5, N)) # 产生10万个，5维的样本点\n",
        "target_node, = random_vector(5, 1) \n",
        "# 产生1个5维的目标点，寻找该目标点的距离最近的点\n",
        "# 注意这里产生的实际上是一个[[1,2,3,4,5]]这样的5维向量\n",
        "# 我们可以用一个,来将其解包\n",
        "\n",
        "t1 = clock()\n",
        "print(\"time: \", t1 - t0, \"s\")\n",
        "print(\"target_node: \", target_node, \"\\nnearest_distance: \", find_nearest(random_kdtree, target_node))"
      ],
      "execution_count": 16,
      "outputs": [
        {
          "output_type": "stream",
          "text": [
            "/usr/local/lib/python3.7/dist-packages/ipykernel_launcher.py:18: DeprecationWarning: time.clock has been deprecated in Python 3.3 and will be removed from Python 3.8: use time.perf_counter or time.process_time instead\n"
          ],
          "name": "stderr"
        },
        {
          "output_type": "stream",
          "text": [
            "time:  1.3268859999999996 s\n",
            "target_node:  [0.6594064280804822, 0.04459308520437655, 0.23511316743704735, 0.892009598934484, 0.8999420668629361] \n",
            "nearest_distance:  Result_tuple(nearest_point=[0.659313730339249, 0.04695815327738462, 0.25617697322234934, 0.849004330174963, 0.855924649071562], nearest_dist=0.06508665196583029, nodes_visited=55)\n"
          ],
          "name": "stdout"
        },
        {
          "output_type": "stream",
          "text": [
            "/usr/local/lib/python3.7/dist-packages/ipykernel_launcher.py:25: DeprecationWarning: time.clock has been deprecated in Python 3.3 and will be removed from Python 3.8: use time.perf_counter or time.process_time instead\n"
          ],
          "name": "stderr"
        }
      ]
    },
    {
      "cell_type": "markdown",
      "metadata": {
        "id": "qoGtXVV9QxHq"
      },
      "source": [
        "### 三、习题\n",
        "**3.1** 参照图3.1，在二维空间中给出实例点，画出k为1和2时的k近邻法构成的空间划分，并对其进行比较，体会k值选择与模型复杂度及预测准确率的关系。\n",
        "- 显然，当k值较大时（$k=2$），模型较为复杂（可以从决策边界看出来，决策边界曲折较多，$k=1$时决策边界较为简单）"
      ]
    },
    {
      "cell_type": "code",
      "metadata": {
        "id": "_pNzXx4iRBfa"
      },
      "source": [
        "'''\n",
        "original websites: https://nbviewer.jupyter.org/github/fengdu78/lihang-code/blob/master/%E7%AC%AC03%E7%AB%A0%20k%E8%BF%91%E9%82%BB%E6%B3%95/3.KNearestNeighbors.ipynb\n",
        "'''\n",
        "%matplotlib inline\n",
        "import numpy as np\n",
        "from sklearn.neighbors import KNeighborsClassifier\n",
        "import matplotlib.pyplot as plt\n",
        "from matplotlib.colors import ListedColormap\n",
        "\n",
        "data = np.array([[5, 12, 1], [6, 21, 0], [14, 5, 0], [16, 10, 0], [13, 19, 0],\n",
        "                 [13, 32, 1], [17, 27, 1], [18, 24, 1], [20, 20,\n",
        "                                                         0], [23, 14, 1],\n",
        "                 [23, 25, 1], [23, 31, 1], [26, 8, 0], [30, 17, 1],\n",
        "                 [30, 26, 1], [34, 8, 0], [34, 19, 1], [37, 28, 1]])\n",
        "X_train = data[:, 0:2]\n",
        "y_train = data[:, 2]\n",
        "\n",
        "models = (KNeighborsClassifier(n_neighbors=1, n_jobs=-1),\n",
        "          KNeighborsClassifier(n_neighbors=2, n_jobs=-1))\n",
        "models = (clf.fit(X_train, y_train) for clf in models)"
      ],
      "execution_count": 26,
      "outputs": []
    },
    {
      "cell_type": "code",
      "metadata": {
        "colab": {
          "base_uri": "https://localhost:8080/",
          "height": 336
        },
        "id": "i3srHFOZSbtn",
        "outputId": "f3254f7a-ee27-4f00-ccbd-93cb3fddb2f7"
      },
      "source": [
        "titles = ('K Neighbors with k=1', 'K Neighbors with k=2')\n",
        "\n",
        "fig = plt.figure(figsize=(15, 5))\n",
        "plt.subplots_adjust(wspace=0.4, hspace=0.4)\n",
        "\n",
        "X0, X1 = X_train[:, 0], X_train[:, 1]\n",
        "\n",
        "x_min, x_max = X0.min() - 1, X0.max() + 1\n",
        "y_min, y_max = X1.min() - 1, X1.max() + 1\n",
        "xx, yy = np.meshgrid(np.arange(x_min, x_max, 0.2),\n",
        "                     np.arange(y_min, y_max, 0.2))\n",
        "\n",
        "for clf, title, ax in zip(models, titles, fig.subplots(1, 2).flatten()):\n",
        "    Z = clf.predict(np.c_[xx.ravel(), yy.ravel()])\n",
        "    Z = Z.reshape(xx.shape)\n",
        "    colors = ('red', 'green', 'lightgreen', 'gray', 'cyan')\n",
        "    cmap = ListedColormap(colors[:len(np.unique(Z))])\n",
        "    ax.contourf(xx, yy, Z, cmap=cmap, alpha=0.5)\n",
        "    ax.scatter(X0, X1, c=y_train, s=50, edgecolors='k', cmap=cmap, alpha=0.5)\n",
        "    ax.set_title(title)\n",
        "\n",
        "plt.show()"
      ],
      "execution_count": 27,
      "outputs": [
        {
          "output_type": "display_data",
          "data": {
            "image/png": "[encoded data removed]",
            "text/plain": [
              "<Figure size 1080x360 with 2 Axes>"
            ]
          },
          "metadata": {
            "tags": [],
            "needs_background": "light"
          }
        }
      ]
    },
    {
      "cell_type": "markdown",
      "metadata": {
        "id": "kFirRAMxRC2T"
      },
      "source": [
        "**3.2** 利用例题3.2构造的kd-tree求点$x=(3,4.5)^T$的最近邻点"
      ]
    },
    {
      "cell_type": "code",
      "metadata": {
        "colab": {
          "base_uri": "https://localhost:8080/"
        },
        "id": "mj2bVcGERIqq",
        "outputId": "2ed669b6-8579-45ee-b877-768b8851769b"
      },
      "source": [
        "print(find_nearest(kdtree, [3, 4.5])) # 书上习题，寻找[3, 4.5]的最近点"
      ],
      "execution_count": 17,
      "outputs": [
        {
          "output_type": "stream",
          "text": [
            "Result_tuple(nearest_point=[2, 3], nearest_dist=1.8027756377319946, nodes_visited=4)\n"
          ],
          "name": "stdout"
        }
      ]
    },
    {
      "cell_type": "markdown",
      "metadata": {
        "id": "S4kj-CKmRLeG"
      },
      "source": [
        "**3.3** 参照算法3.3，写出输出为x的k近邻的算法"
      ]
    },
    {
      "cell_type": "code",
      "metadata": {
        "id": "llTXRqo8RkhR"
      },
      "source": [
        "# 见前文代码\n",
        "pass"
      ],
      "execution_count": 18,
      "outputs": []
    }
  ]
}
