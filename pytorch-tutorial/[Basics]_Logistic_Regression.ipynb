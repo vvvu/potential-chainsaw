{
  "nbformat": 4,
  "nbformat_minor": 0,
  "metadata": {
    "colab": {
      "name": "[Basics]_Logistic_Regression.ipynb",
      "provenance": [],
      "authorship_tag": "ABX9TyO7lrfNgDZAEVv7PHnT9VbV",
      "include_colab_link": true
    },
    "kernelspec": {
      "name": "python3",
      "display_name": "Python 3"
    },
    "language_info": {
      "name": "python"
    }
  },
  "cells": [
    {
      "cell_type": "markdown",
      "metadata": {
        "id": "view-in-github",
        "colab_type": "text"
      },
      "source": [
        "<a href=\"https://colab.research.google.com/github/vvvu/potential-chainsaw/blob/main/pytorch-tutorial/%5BBasics%5D_Logistic_Regression.ipynb\" target=\"_parent\"><img src=\"https://colab.research.google.com/assets/colab-badge.svg\" alt=\"Open In Colab\"/></a>"
      ]
    },
    {
      "cell_type": "code",
      "metadata": {
        "id": "V7B3UDaVO-YX"
      },
      "source": [
        "import torch\n",
        "import torch.nn as nn\n",
        "import torchvision\n",
        "import torchvision.transforms as transforms"
      ],
      "execution_count": 1,
      "outputs": []
    },
    {
      "cell_type": "code",
      "metadata": {
        "colab": {
          "base_uri": "https://localhost:8080/"
        },
        "id": "mzRcDH6_PSg9",
        "outputId": "777881f1-a14d-4149-a46d-8ec1647b15da"
      },
      "source": [
        "# MNIST Hyper Parameters\n",
        "input_size = 28 * 28 # 784 pixels\n",
        "num_classes = 10\n",
        "num_epochs = 5\n",
        "batch_size = 100\n",
        "learning_rate = 0.001\n",
        "\n",
        "# MNIST dataset\n",
        "train_dataset = torchvision.datasets.MNIST(root = './data',\n",
        "                                           train = True,\n",
        "                                           transform = transforms.ToTensor(),\n",
        "                                           download = True)\n",
        "\n",
        "test_dataset = torchvision.datasets.MNIST(root = './data',\n",
        "                                          train = False,\n",
        "                                          transform = transforms.ToTensor())\n",
        "\n",
        "# Data Loader\n",
        "train_loader = torch.utils.data.DataLoader(dataset = train_dataset,\n",
        "                                           batch_size = batch_size,\n",
        "                                           shuffle = True)\n",
        "\n",
        "test_loader = torch.utils.data.DataLoader(dataset = test_dataset,\n",
        "                                          batch_size = batch_size,\n",
        "                                          shuffle = False)\n",
        "\n",
        "# Logistic Regression Model => Classification\n",
        "model = nn.Linear(input_size, num_classes)\n",
        "\n",
        "# Loss and optimizer\n",
        "# nn.CrossEntropyLoss() computes softmax internally\n",
        "criterion = nn.CrossEntropyLoss()\n",
        "optimizer = torch.optim.SGD(model.parameters(), lr = learning_rate)\n",
        "\n",
        "# Train the model\n",
        "total_step = len(train_loader)\n",
        "for epoch in range(num_epochs):\n",
        "  for i, (images, labels) in enumerate(train_loader):\n",
        "    # Reshape images to (batch_size, input_size)\n",
        "    images = images.reshape(-1, input_size) # [100, 784]\n",
        "\n",
        "    # Forward pass\n",
        "    outputs = model(images)\n",
        "    loss = criterion(outputs, labels)\n",
        "\n",
        "    # Backward and optimize\n",
        "    optimizer.zero_grad()\n",
        "    loss.backward()\n",
        "    optimizer.step()\n",
        "\n",
        "    if (i + 1) % 100 == 0:\n",
        "      print('Epoch [{}/{}], Step [{}/{}], Loss: {:.4f}'\n",
        "        .format(epoch+1, num_epochs, i+1, total_step, loss.item()))  "
      ],
      "execution_count": 12,
      "outputs": [
        {
          "output_type": "stream",
          "text": [
            "Epoch [1/5], Step [100/600], Loss: 2.2377\n",
            "Epoch [1/5], Step [200/600], Loss: 2.1369\n",
            "Epoch [1/5], Step [300/600], Loss: 2.0481\n",
            "Epoch [1/5], Step [400/600], Loss: 1.9134\n",
            "Epoch [1/5], Step [500/600], Loss: 1.8844\n",
            "Epoch [1/5], Step [600/600], Loss: 1.7642\n",
            "Epoch [2/5], Step [100/600], Loss: 1.7115\n",
            "Epoch [2/5], Step [200/600], Loss: 1.6392\n",
            "Epoch [2/5], Step [300/600], Loss: 1.6185\n",
            "Epoch [2/5], Step [400/600], Loss: 1.5103\n",
            "Epoch [2/5], Step [500/600], Loss: 1.4989\n",
            "Epoch [2/5], Step [600/600], Loss: 1.4901\n",
            "Epoch [3/5], Step [100/600], Loss: 1.4119\n",
            "Epoch [3/5], Step [200/600], Loss: 1.3086\n",
            "Epoch [3/5], Step [300/600], Loss: 1.3244\n",
            "Epoch [3/5], Step [400/600], Loss: 1.3710\n",
            "Epoch [3/5], Step [500/600], Loss: 1.2870\n",
            "Epoch [3/5], Step [600/600], Loss: 1.2156\n",
            "Epoch [4/5], Step [100/600], Loss: 1.1655\n",
            "Epoch [4/5], Step [200/600], Loss: 1.0116\n",
            "Epoch [4/5], Step [300/600], Loss: 1.2962\n",
            "Epoch [4/5], Step [400/600], Loss: 1.0903\n",
            "Epoch [4/5], Step [500/600], Loss: 1.1003\n",
            "Epoch [4/5], Step [600/600], Loss: 1.0776\n",
            "Epoch [5/5], Step [100/600], Loss: 1.0976\n",
            "Epoch [5/5], Step [200/600], Loss: 1.1778\n",
            "Epoch [5/5], Step [300/600], Loss: 1.0266\n",
            "Epoch [5/5], Step [400/600], Loss: 0.9671\n",
            "Epoch [5/5], Step [500/600], Loss: 1.0159\n",
            "Epoch [5/5], Step [600/600], Loss: 0.9067\n"
          ],
          "name": "stdout"
        }
      ]
    },
    {
      "cell_type": "code",
      "metadata": {
        "colab": {
          "base_uri": "https://localhost:8080/"
        },
        "id": "JiPc2_LRQWp1",
        "outputId": "2caf4a2e-488f-4765-b827-2b8dc331e58a"
      },
      "source": [
        "# Test the model\n",
        "# In test phase, we don't need to compute gradients (for memory efficiency)\n",
        "'''\n",
        "1. 实际上，在Test阶段我们无需计算梯度，我们只需要对比对应的label是否相同\n",
        "2. 但是PyTorch默认会让「所有的操作都进行Computational Graph的生成」，对于Tensor的计算操作\n",
        "  默认是要进行Computational Graph的构建的\n",
        "3. 在这种情况下，可以使用`with torch.no_grad():`，强制之后的内容不进行Compuational Graph的构建\n",
        "4. 从而节省内存资源\n",
        "'''\n",
        "\n",
        "with torch.no_grad():\n",
        "  correct = 0\n",
        "  total = 0\n",
        "  for images, labels in test_loader:\n",
        "    images = images.reshape(-1, input_size)\n",
        "    outputs = model(images)\n",
        "    _, predicted = torch.max(outputs.data, 1)\n",
        "    '''\n",
        "    _ : 代表具体的value，即分类到某一特定类的概率\n",
        "    predicted : 代表value所在的index\n",
        "\n",
        "    注意我们这里是一个分类问题，实际上我们并不关注具体的value是多少，我们关注的是某个数据\n",
        "    被分到了哪一类，即index\n",
        "\n",
        "    这里的数字1实际上代表`dim = 1`，表示输出所在行的最大值。如果`dim = 0`，则代表输出\n",
        "    所在列的最大值。\n",
        "\n",
        "    在MNIST问题中：网络预测结果中，行代表样本，列代表类别，所以这里应该用`dim = 1`，因为我们\n",
        "    需要输出每个样本的预测类别\n",
        "    '''\n",
        "    total += labels.size(0)\n",
        "    '''\n",
        "    这里的labels.size(0)实际上就是我们之前设置的test_loader的batch_size = 100\n",
        "    test_loader每次读入batch_size的数字，我们需要计算total，则累加即可\n",
        "    Tips: 虽然没有验证，但如果剩余数据数量不足batch_size所要求数量，这里的labels.size(0)\n",
        "    应该会返回当前batch「实际读入的数量」而非batch_size。\n",
        "    '''\n",
        "    correct += (predicted == labels).sum()\n",
        "\n",
        "  print('Accuracy of the model on the 10000 test images: {} %'.format(100 * correct / total))\n",
        "  \n",
        "# Save the model checkpoint\n",
        "torch.save(model.state_dict(), 'model.ckpt')"
      ],
      "execution_count": 13,
      "outputs": [
        {
          "output_type": "stream",
          "text": [
            "Accuracy of the model on the 10000 test images: 83.51000213623047 %\n"
          ],
          "name": "stdout"
        }
      ]
    }
  ]
}