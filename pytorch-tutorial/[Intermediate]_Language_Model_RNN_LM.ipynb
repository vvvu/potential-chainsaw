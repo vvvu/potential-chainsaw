{
  "nbformat": 4,
  "nbformat_minor": 0,
  "metadata": {
    "colab": {
      "name": "[Intermediate]_Language_Model_RNN_LM.ipynb",
      "provenance": [],
      "authorship_tag": "ABX9TyMzpDqfDORW9Fm0Zh8vCAme",
      "include_colab_link": true
    },
    "kernelspec": {
      "name": "python3",
      "display_name": "Python 3"
    },
    "language_info": {
      "name": "python"
    },
    "accelerator": "GPU"
  },
  "cells": [
    {
      "cell_type": "markdown",
      "metadata": {
        "id": "view-in-github",
        "colab_type": "text"
      },
      "source": [
        "<a href=\"https://colab.research.google.com/github/vvvu/potential-chainsaw/blob/main/pytorch-tutorial/%5BIntermediate%5D_Language_Model_RNN_LM.ipynb\" target=\"_parent\"><img src=\"https://colab.research.google.com/assets/colab-badge.svg\" alt=\"Open In Colab\"/></a>"
      ]
    },
    {
      "cell_type": "code",
      "metadata": {
        "id": "Ujh-Zhg00S0r"
      },
      "source": [
        "'''\n",
        "Data Utils\n",
        "1. 主要针对文本进行一些预处理\n",
        "2. 构建语料库 Corpus\n",
        "'''\n",
        "\n",
        "import torch\n",
        "import os\n",
        "\n",
        "class Dictionary(object):\n",
        "  def __init__(self):\n",
        "    self.word2idx = {}\n",
        "    self.idx2word = {}\n",
        "    self.idx = 0\n",
        "\n",
        "  def add_word(self, word):\n",
        "    if not word in self.word2idx:\n",
        "      self.word2idx[word] = self.idx\n",
        "      self.idx2word[self.idx] = word\n",
        "      self.idx += 1\n",
        "\n",
        "  def __len__(self):\n",
        "    return len(self.word2idx)\n",
        "\n",
        "class Corpus(object):\n",
        "  def __init__(self):\n",
        "    self.dictionary = Dictionary()\n",
        "\n",
        "  def get_data(self, path, batch_size = 20):\n",
        "    # Add words to the dictionary\n",
        "    with open(path, 'r') as f:\n",
        "      tokens = 0\n",
        "      for line in f:\n",
        "        words = line.split() + ['<eos>']\n",
        "        tokens += len(words)\n",
        "        for word in words:\n",
        "          self.dictionary.add_word(word)\n",
        "\n",
        "    # Tokenize the file content\n",
        "    ids = torch.LongTensor(tokens)\n",
        "    token = 0\n",
        "    with open(path, 'r') as f:\n",
        "      for line in f:\n",
        "        words = line.split() + ['<eos>']\n",
        "        for word in words:\n",
        "          ids[token] = self.dictionary.word2idx[word]\n",
        "          token += 1\n",
        "    \n",
        "    num_batches = ids.size(0) // batch_size\n",
        "    ids = ids[:num_batches * batch_size]\n",
        "    return ids.view(batch_size, -1)"
      ],
      "execution_count": 1,
      "outputs": []
    },
    {
      "cell_type": "code",
      "metadata": {
        "id": "bs36BO7j1SkK"
      },
      "source": [
        "'''\n",
        "main.py\n",
        "'''\n",
        "import torch\n",
        "import torch.nn as nn\n",
        "import numpy as np\n",
        "'''\n",
        "clip_grad_norm_\n",
        "- 梯度裁剪原理：既然在BP过程中会产生（梯度爆炸/梯度消失）问题，那么最简单的方法就是设定Threshold，当\n",
        "Gradient小于/大于我们设定的Threshold时，我们就将更梯度更新为Theshold即可\n",
        "'''\n",
        "from torch.nn.utils import clip_grad_norm_"
      ],
      "execution_count": 3,
      "outputs": []
    },
    {
      "cell_type": "code",
      "metadata": {
        "id": "9IyloXr-1_Xr"
      },
      "source": [
        "device = torch.device('cuda' if torch.cuda.is_available() else 'cpu')\n",
        "\n",
        "# Hyper Parameters\n",
        "embed_size = 128\n",
        "hidden_size = 1024\n",
        "num_layers = 1\n",
        "num_epochs = 5\n",
        "num_samples = 1000 # number of words to be sampled\n",
        "batch_size = 20\n",
        "seq_length = 30\n",
        "learning_rate = 0.002"
      ],
      "execution_count": 4,
      "outputs": []
    },
    {
      "cell_type": "code",
      "metadata": {
        "id": "7YKzWkig2L3f"
      },
      "source": [
        "# Load \"Penn Treebank\" dataset\n",
        "corpus = Corpus()\n",
        "ids = corpus.get_data('sample_data/train.txt',\n",
        "                      batch_size)\n",
        "vocab_size = len(corpus.dictionary) # Vocabulary Size\n",
        "num_batches = ids.size(1) // seq_length"
      ],
      "execution_count": 7,
      "outputs": []
    },
    {
      "cell_type": "code",
      "metadata": {
        "id": "ZoHrO3082b1q"
      },
      "source": [
        "# RNN based language model\n",
        "class RNNLM(nn.Module):\n",
        "  def __init__(self, vocab_size, embed_size, hidden_size, num_layers):\n",
        "    super(RNNLM, self).__init__()\n",
        "    self.embed = nn.Embedding(vocab_size, embed_size)\n",
        "    '''\n",
        "    torch.nn.Embedding\n",
        "    - A simple lookup table that stores embeddings of a fixed dictionary and size\n",
        "    This module is often used to store word embeddings and retrieve them using\n",
        "    indices. The input to the module is a list of indices, and the output is the\n",
        "    corresponding word embeddings.\n",
        "\n",
        "    Parameters:\n",
        "    - num_embeddings - size of the dictionary of embeddings\n",
        "    - embedding_dim - the size of each embedding vector\n",
        "    ...\n",
        "\n",
        "    Usage: Natural Language Processing\n",
        "    -> 对于一个单词，我们可以只定义它的属性维度，比如100.然后通过NN去学习它每一个属性的大小，\n",
        "    而我们并不需要关心这个属性到底代表着什么。我们只需要知道：词向量的夹角越小，表示他们之间的语义\n",
        "    更加接近\n",
        "    '''\n",
        "    self.lstm = nn.LSTM(embed_size, hidden_size, num_layers, batch_first = True)\n",
        "    self.linear = nn.Linear(hidden_size, vocab_size)\n",
        "\n",
        "  def forward(self, x, h):\n",
        "    # Embed word ids to vectors\n",
        "    x = self.embed(x)\n",
        "\n",
        "    # Forward propagate LSTM\n",
        "    out, (h, c) = self.lstm(x, h)\n",
        "\n",
        "    # Reshape output to (batch_size * sequence_length, hidden_size)\n",
        "    out = out.reshape(out.size(0) * out.size(1), out.size(2))\n",
        "\n",
        "    # Decode hidden states of all time steps\n",
        "    out = self.linear(out)\n",
        "    return out, (h, c)\n",
        "\n",
        "model = RNNLM(vocab_size, embed_size, hidden_size, num_layers).to(device)"
      ],
      "execution_count": 8,
      "outputs": []
    },
    {
      "cell_type": "code",
      "metadata": {
        "id": "12srC9Mp8ZLd"
      },
      "source": [
        "# Loss and optimizer\n",
        "criterion = nn.CrossEntropyLoss()\n",
        "optimizer = torch.optim.Adam(model.parameters(), lr = learning_rate)"
      ],
      "execution_count": 9,
      "outputs": []
    },
    {
      "cell_type": "code",
      "metadata": {
        "id": "6Dt8n6HR9bV7"
      },
      "source": [
        "# Truncated backpropagation\n",
        "def detach(states):\n",
        "  return [state.detach() for state in states]"
      ],
      "execution_count": 10,
      "outputs": []
    },
    {
      "cell_type": "code",
      "metadata": {
        "colab": {
          "base_uri": "https://localhost:8080/"
        },
        "id": "Oo-XjLmc8p3S",
        "outputId": "c7d4441d-d854-4c29-84e6-28e14fcecbe0"
      },
      "source": [
        "# Train the model\n",
        "for epoch in range(num_epochs):\n",
        "  # Set initial hidden and cell states\n",
        "  states = (torch.zeros(num_layers, batch_size, hidden_size).to(device),\n",
        "            torch.zeros(num_layers, batch_size, hidden_size).to(device))\n",
        "  \n",
        "  for i in range(0, ids.size(1) - seq_length, seq_length):\n",
        "    # Get mini-batch inputs and targets\n",
        "    inputs = ids[:, i:i+seq_length].to(device)\n",
        "    targets = ids[:, (i+1):(i+1)+seq_length].to(device)\n",
        "\n",
        "    # Forward pass\n",
        "    states = detach(states)\n",
        "    outputs, states = model(inputs, states)\n",
        "    loss = criterion(outputs, targets.reshape(-1))\n",
        "\n",
        "    # Backward and optimizer\n",
        "    optimizer.zero_grad()\n",
        "    loss.backward()\n",
        "    clip_grad_norm_(model.parameters(), 0.5)\n",
        "    '''\n",
        "    Clips gradient norm of an iterable of parameters\n",
        "    - The norm is computed over all gradients together, as if they were\n",
        "    concatenated into a single vector. Gradients are modified in-place\n",
        "\n",
        "    Parameters\n",
        "    - parameters - an iterable of Tensors or a single Tensor that will have \n",
        "    gradients normalized\n",
        "    - max_norm - max norm of the gradients\n",
        "    - norm_type - type of the used p-norm. Can be 'inf' for infinity norm.\n",
        "    '''\n",
        "    optimizer.step()\n",
        "\n",
        "    step = (i + 1) // seq_length\n",
        "    if step % 100 == 0:\n",
        "      print('Epoch [{}/{}], Step[{}/{}], Loss: {:.4f}, Perplexity: {:5.2f}'\n",
        "            .format(epoch + 1, num_epochs, step, num_batches, loss.item(),\n",
        "                    np.exp(loss.item())))"
      ],
      "execution_count": 11,
      "outputs": [
        {
          "output_type": "stream",
          "text": [
            "Epoch [1/5], Step[0/1549], Loss: 9.2085, Perplexity: 9981.33\n",
            "Epoch [1/5], Step[100/1549], Loss: 6.0440, Perplexity: 421.56\n",
            "Epoch [1/5], Step[200/1549], Loss: 5.9201, Perplexity: 372.44\n",
            "Epoch [1/5], Step[300/1549], Loss: 5.7692, Perplexity: 320.30\n",
            "Epoch [1/5], Step[400/1549], Loss: 5.6709, Perplexity: 290.30\n",
            "Epoch [1/5], Step[500/1549], Loss: 5.1149, Perplexity: 166.48\n",
            "Epoch [1/5], Step[600/1549], Loss: 5.1955, Perplexity: 180.46\n",
            "Epoch [1/5], Step[700/1549], Loss: 5.3493, Perplexity: 210.45\n",
            "Epoch [1/5], Step[800/1549], Loss: 5.1861, Perplexity: 178.78\n",
            "Epoch [1/5], Step[900/1549], Loss: 5.0831, Perplexity: 161.28\n",
            "Epoch [1/5], Step[1000/1549], Loss: 5.1177, Perplexity: 166.95\n",
            "Epoch [1/5], Step[1100/1549], Loss: 5.3704, Perplexity: 214.95\n",
            "Epoch [1/5], Step[1200/1549], Loss: 5.1897, Perplexity: 179.41\n",
            "Epoch [1/5], Step[1300/1549], Loss: 5.1027, Perplexity: 164.47\n",
            "Epoch [1/5], Step[1400/1549], Loss: 4.8364, Perplexity: 126.02\n",
            "Epoch [1/5], Step[1500/1549], Loss: 5.1366, Perplexity: 170.14\n",
            "Epoch [2/5], Step[0/1549], Loss: 5.4127, Perplexity: 224.24\n",
            "Epoch [2/5], Step[100/1549], Loss: 4.5584, Perplexity: 95.43\n",
            "Epoch [2/5], Step[200/1549], Loss: 4.7352, Perplexity: 113.89\n",
            "Epoch [2/5], Step[300/1549], Loss: 4.7066, Perplexity: 110.67\n",
            "Epoch [2/5], Step[400/1549], Loss: 4.5620, Perplexity: 95.77\n",
            "Epoch [2/5], Step[500/1549], Loss: 4.1442, Perplexity: 63.07\n",
            "Epoch [2/5], Step[600/1549], Loss: 4.4187, Perplexity: 82.99\n",
            "Epoch [2/5], Step[700/1549], Loss: 4.3769, Perplexity: 79.59\n",
            "Epoch [2/5], Step[800/1549], Loss: 4.4744, Perplexity: 87.74\n",
            "Epoch [2/5], Step[900/1549], Loss: 4.2347, Perplexity: 69.04\n",
            "Epoch [2/5], Step[1000/1549], Loss: 4.3097, Perplexity: 74.42\n",
            "Epoch [2/5], Step[1100/1549], Loss: 4.5539, Perplexity: 95.00\n",
            "Epoch [2/5], Step[1200/1549], Loss: 4.4670, Perplexity: 87.09\n",
            "Epoch [2/5], Step[1300/1549], Loss: 4.2700, Perplexity: 71.52\n",
            "Epoch [2/5], Step[1400/1549], Loss: 3.9876, Perplexity: 53.92\n",
            "Epoch [2/5], Step[1500/1549], Loss: 4.3097, Perplexity: 74.42\n",
            "Epoch [3/5], Step[0/1549], Loss: 4.4511, Perplexity: 85.72\n",
            "Epoch [3/5], Step[100/1549], Loss: 3.8654, Perplexity: 47.72\n",
            "Epoch [3/5], Step[200/1549], Loss: 4.0482, Perplexity: 57.29\n",
            "Epoch [3/5], Step[300/1549], Loss: 4.0125, Perplexity: 55.28\n",
            "Epoch [3/5], Step[400/1549], Loss: 3.8911, Perplexity: 48.97\n",
            "Epoch [3/5], Step[500/1549], Loss: 3.4660, Perplexity: 32.01\n",
            "Epoch [3/5], Step[600/1549], Loss: 3.8196, Perplexity: 45.59\n",
            "Epoch [3/5], Step[700/1549], Loss: 3.7262, Perplexity: 41.52\n",
            "Epoch [3/5], Step[800/1549], Loss: 3.8375, Perplexity: 46.41\n",
            "Epoch [3/5], Step[900/1549], Loss: 3.5396, Perplexity: 34.45\n",
            "Epoch [3/5], Step[1000/1549], Loss: 3.5813, Perplexity: 35.92\n",
            "Epoch [3/5], Step[1100/1549], Loss: 3.7134, Perplexity: 40.99\n",
            "Epoch [3/5], Step[1200/1549], Loss: 3.7923, Perplexity: 44.36\n",
            "Epoch [3/5], Step[1300/1549], Loss: 3.4995, Perplexity: 33.10\n",
            "Epoch [3/5], Step[1400/1549], Loss: 3.1870, Perplexity: 24.21\n",
            "Epoch [3/5], Step[1500/1549], Loss: 3.6217, Perplexity: 37.40\n",
            "Epoch [4/5], Step[0/1549], Loss: 3.5856, Perplexity: 36.08\n",
            "Epoch [4/5], Step[100/1549], Loss: 3.2410, Perplexity: 25.56\n",
            "Epoch [4/5], Step[200/1549], Loss: 3.4455, Perplexity: 31.36\n",
            "Epoch [4/5], Step[300/1549], Loss: 3.4867, Perplexity: 32.68\n",
            "Epoch [4/5], Step[400/1549], Loss: 3.3794, Perplexity: 29.35\n",
            "Epoch [4/5], Step[500/1549], Loss: 2.9252, Perplexity: 18.64\n",
            "Epoch [4/5], Step[600/1549], Loss: 3.3603, Perplexity: 28.80\n",
            "Epoch [4/5], Step[700/1549], Loss: 3.2261, Perplexity: 25.18\n",
            "Epoch [4/5], Step[800/1549], Loss: 3.3848, Perplexity: 29.51\n",
            "Epoch [4/5], Step[900/1549], Loss: 3.0356, Perplexity: 20.81\n",
            "Epoch [4/5], Step[1000/1549], Loss: 3.1569, Perplexity: 23.50\n",
            "Epoch [4/5], Step[1100/1549], Loss: 3.1859, Perplexity: 24.19\n",
            "Epoch [4/5], Step[1200/1549], Loss: 3.2385, Perplexity: 25.50\n",
            "Epoch [4/5], Step[1300/1549], Loss: 3.0351, Perplexity: 20.80\n",
            "Epoch [4/5], Step[1400/1549], Loss: 2.7215, Perplexity: 15.20\n",
            "Epoch [4/5], Step[1500/1549], Loss: 3.1745, Perplexity: 23.91\n",
            "Epoch [5/5], Step[0/1549], Loss: 3.0953, Perplexity: 22.09\n",
            "Epoch [5/5], Step[100/1549], Loss: 2.8581, Perplexity: 17.43\n",
            "Epoch [5/5], Step[200/1549], Loss: 3.0373, Perplexity: 20.85\n",
            "Epoch [5/5], Step[300/1549], Loss: 3.1069, Perplexity: 22.35\n",
            "Epoch [5/5], Step[400/1549], Loss: 3.0547, Perplexity: 21.21\n",
            "Epoch [5/5], Step[500/1549], Loss: 2.5974, Perplexity: 13.43\n",
            "Epoch [5/5], Step[600/1549], Loss: 3.0176, Perplexity: 20.44\n",
            "Epoch [5/5], Step[700/1549], Loss: 2.8620, Perplexity: 17.50\n",
            "Epoch [5/5], Step[800/1549], Loss: 3.1249, Perplexity: 22.76\n",
            "Epoch [5/5], Step[900/1549], Loss: 2.6930, Perplexity: 14.78\n",
            "Epoch [5/5], Step[1000/1549], Loss: 2.8755, Perplexity: 17.73\n",
            "Epoch [5/5], Step[1100/1549], Loss: 2.8834, Perplexity: 17.87\n",
            "Epoch [5/5], Step[1200/1549], Loss: 2.9553, Perplexity: 19.21\n",
            "Epoch [5/5], Step[1300/1549], Loss: 2.6650, Perplexity: 14.37\n",
            "Epoch [5/5], Step[1400/1549], Loss: 2.3292, Perplexity: 10.27\n",
            "Epoch [5/5], Step[1500/1549], Loss: 2.8699, Perplexity: 17.63\n"
          ],
          "name": "stdout"
        }
      ]
    },
    {
      "cell_type": "code",
      "metadata": {
        "colab": {
          "base_uri": "https://localhost:8080/"
        },
        "id": "R-qpsJjj9Ywn",
        "outputId": "875a9bec-3c98-4d64-f65c-db5a6fff5892"
      },
      "source": [
        "# Test the model\n",
        "with torch.no_grad():\n",
        "    with open('sample.txt', 'w') as f:\n",
        "        # Set intial hidden ane cell states\n",
        "        state = (torch.zeros(num_layers, 1, hidden_size).to(device),\n",
        "                 torch.zeros(num_layers, 1, hidden_size).to(device))\n",
        "\n",
        "        # Select one word id randomly\n",
        "        prob = torch.ones(vocab_size)\n",
        "        input = torch.multinomial(prob, num_samples=1).unsqueeze(1).to(device)\n",
        "\n",
        "        for i in range(num_samples):\n",
        "            # Forward propagate RNN \n",
        "            output, state = model(input, state)\n",
        "\n",
        "            # Sample a word id\n",
        "            prob = output.exp()\n",
        "            word_id = torch.multinomial(prob, num_samples=1).item()\n",
        "\n",
        "            # Fill input with sampled word id for the next time step\n",
        "            input.fill_(word_id)\n",
        "\n",
        "            # File write\n",
        "            word = corpus.dictionary.idx2word[word_id]\n",
        "            word = '\\n' if word == '<eos>' else word + ' '\n",
        "            f.write(word)\n",
        "\n",
        "            if (i+1) % 100 == 0:\n",
        "                print('Sampled [{}/{}] words and save to {}'.format(i+1, num_samples, 'sample.txt'))"
      ],
      "execution_count": 12,
      "outputs": [
        {
          "output_type": "stream",
          "text": [
            "Sampled [100/1000] words and save to sample.txt\n",
            "Sampled [200/1000] words and save to sample.txt\n",
            "Sampled [300/1000] words and save to sample.txt\n",
            "Sampled [400/1000] words and save to sample.txt\n",
            "Sampled [500/1000] words and save to sample.txt\n",
            "Sampled [600/1000] words and save to sample.txt\n",
            "Sampled [700/1000] words and save to sample.txt\n",
            "Sampled [800/1000] words and save to sample.txt\n",
            "Sampled [900/1000] words and save to sample.txt\n",
            "Sampled [1000/1000] words and save to sample.txt\n"
          ],
          "name": "stdout"
        }
      ]
    },
    {
      "cell_type": "code",
      "metadata": {
        "id": "nJjoDnLw9jdo"
      },
      "source": [
        "# Save the model checkpoints\n",
        "torch.save(model.state_dict(), 'model.ckpt')"
      ],
      "execution_count": 13,
      "outputs": []
    }
  ]
}