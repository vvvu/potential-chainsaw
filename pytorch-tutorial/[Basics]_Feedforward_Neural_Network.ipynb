{
  "nbformat": 4,
  "nbformat_minor": 0,
  "metadata": {
    "colab": {
      "name": "[Basics]_Feedforward_Neural_Network.ipynb",
      "provenance": [],
      "authorship_tag": "ABX9TyO1nuS5SBUAK8ECz2WzPYBL",
      "include_colab_link": true
    },
    "kernelspec": {
      "name": "python3",
      "display_name": "Python 3"
    },
    "language_info": {
      "name": "python"
    }
  },
  "cells": [
    {
      "cell_type": "markdown",
      "metadata": {
        "id": "view-in-github",
        "colab_type": "text"
      },
      "source": [
        "<a href=\"https://colab.research.google.com/github/vvvu/potential-chainsaw/blob/main/pytorch-tutorial/%5BBasics%5D_Feedforward_Neural_Network.ipynb\" target=\"_parent\"><img src=\"https://colab.research.google.com/assets/colab-badge.svg\" alt=\"Open In Colab\"/></a>"
      ]
    },
    {
      "cell_type": "code",
      "metadata": {
        "id": "Yp8dynHYUNkT"
      },
      "source": [
        "import torch\n",
        "import torch.nn as nn\n",
        "import torchvision\n",
        "import torchvision.transforms as transforms"
      ],
      "execution_count": 1,
      "outputs": []
    },
    {
      "cell_type": "code",
      "metadata": {
        "id": "FGxtkh2Ece2L"
      },
      "source": [
        "# Device configuration\n",
        "device = torch.device('cuda' if torch.cuda.is_available() else 'cpu')\n",
        "'''\n",
        "torch.device代表将torch.Tensor分配到的设备的对象。\n",
        "torch.device包含一个设备类型（‘cpu’或‘cuda’）和可选的设备序号。\n",
        "'''\n",
        "# Hyper Parameters\n",
        "input_size = 28 * 28\n",
        "hidden_size = 500\n",
        "num_classes = 10\n",
        "num_epochs = 5\n",
        "batch_size = 100\n",
        "learning_rate = 0.001\n",
        "\n",
        "# MNIST dataset\n",
        "train_dataset = torchvision.datasets.MNIST(root = './data',\n",
        "                                           train = True,\n",
        "                                           transform = transforms.ToTensor(),\n",
        "                                           download = True)\n",
        "\n",
        "test_dataset = torchvision.datasets.MNIST(root = './data',\n",
        "                                          train = False,\n",
        "                                          transform = transforms.ToTensor())\n",
        "\n",
        "# Data Loader\n",
        "train_loader = torch.utils.data.DataLoader(dataset = train_dataset,\n",
        "                                           batch_size = batch_size,\n",
        "                                           shuffle = True)\n",
        "\n",
        "test_loader = torch.utils.data.DataLoader(dataset = test_dataset,\n",
        "                                          batch_size = batch_size,\n",
        "                                          shuffle = False)"
      ],
      "execution_count": 13,
      "outputs": []
    },
    {
      "cell_type": "code",
      "metadata": {
        "id": "p23tqkHpdOMA"
      },
      "source": [
        "# Fully connected neural network with [one hidden layer]\n",
        "class NeuralNet(nn.Module):\n",
        "  def __init__(self, input_size, hidden_size, num_classes):\n",
        "    super(NeuralNet, self).__init__()\n",
        "    self.fc1 = nn.Linear(input_size, hidden_size) \n",
        "    '''\n",
        "    - Fully Connceted Layer 1\n",
        "    - Input Size = 784 => Hidden Size = 500\n",
        "    '''\n",
        "    self.relu = nn.ReLU()\n",
        "    self.fc2 = nn.Linear(hidden_size, num_classes)\n",
        "    '''\n",
        "    - Fully Connected Layer 2\n",
        "    - Hidden Size = 500 => num_classes = 10\n",
        "    '''\n",
        "\n",
        "  def forward(self, x):\n",
        "    '''\n",
        "    784 => 500 => 10\n",
        "    '''\n",
        "    out = self.fc1(x)\n",
        "    out = self.relu(out)\n",
        "    out = self.fc2(out)\n",
        "    return out"
      ],
      "execution_count": 23,
      "outputs": []
    },
    {
      "cell_type": "code",
      "metadata": {
        "colab": {
          "base_uri": "https://localhost:8080/"
        },
        "id": "Lue6x028d1Hb",
        "outputId": "ff2b2b4f-5650-4434-c35e-6af5b5e81881"
      },
      "source": [
        "model = NeuralNet(input_size, hidden_size, num_classes).to(device)\n",
        "'''\n",
        "You can use the tensor.to(device) command to move a tensor to a device.\n",
        "The .to() command is also used to move a whole model to a device, like in the \n",
        "  post you linked to.\n",
        "- device在前面我们定义过为：如果有GPU则使用CUDA否则使用CPU\n",
        "- 这里.to()即让我们将对应的Tensor安置到前面我们定义的Device中\n",
        "'''\n",
        "\n",
        "# Loss and optimizer\n",
        "criterion = nn.CrossEntropyLoss()\n",
        "optimizer = torch.optim.Adam(model.parameters(), lr = learning_rate)\n",
        "\n",
        "# Train the model\n",
        "total_step = len(train_loader)\n",
        "for epoch in range(num_epochs):\n",
        "  for i, (images, labels) in enumerate(train_loader):\n",
        "    # Move tensors to the configured device\n",
        "    images = images.reshape(-1, 28 * 28).to(device)\n",
        "    labels = labels.to(device)\n",
        "\n",
        "    # Forward pass\n",
        "    outputs = model(images)\n",
        "    loss = criterion(outputs, labels)\n",
        "\n",
        "    # Backward and optimize\n",
        "    optimizer.zero_grad()\n",
        "    loss.backward()\n",
        "    optimizer.step()\n",
        "\n",
        "    if (i + 1) % 100 == 0:\n",
        "      print('Epoch [{}/{}], Step [{}/{}], Loss: {:.4f}'\n",
        "              .format(epoch + 1, num_epochs, i + 1, total_step, loss.item()))"
      ],
      "execution_count": 24,
      "outputs": [
        {
          "output_type": "stream",
          "text": [
            "Epoch [1/5], Step [100/600], Loss: 0.2655\n",
            "Epoch [1/5], Step [200/600], Loss: 0.4096\n",
            "Epoch [1/5], Step [300/600], Loss: 0.2071\n",
            "Epoch [1/5], Step [400/600], Loss: 0.1275\n",
            "Epoch [1/5], Step [500/600], Loss: 0.0881\n",
            "Epoch [1/5], Step [600/600], Loss: 0.1573\n",
            "Epoch [2/5], Step [100/600], Loss: 0.0623\n",
            "Epoch [2/5], Step [200/600], Loss: 0.1275\n",
            "Epoch [2/5], Step [300/600], Loss: 0.1059\n",
            "Epoch [2/5], Step [400/600], Loss: 0.2059\n",
            "Epoch [2/5], Step [500/600], Loss: 0.1824\n",
            "Epoch [2/5], Step [600/600], Loss: 0.0598\n",
            "Epoch [3/5], Step [100/600], Loss: 0.0684\n",
            "Epoch [3/5], Step [200/600], Loss: 0.0501\n",
            "Epoch [3/5], Step [300/600], Loss: 0.0612\n",
            "Epoch [3/5], Step [400/600], Loss: 0.0552\n",
            "Epoch [3/5], Step [500/600], Loss: 0.1007\n",
            "Epoch [3/5], Step [600/600], Loss: 0.1817\n",
            "Epoch [4/5], Step [100/600], Loss: 0.0795\n",
            "Epoch [4/5], Step [200/600], Loss: 0.0616\n",
            "Epoch [4/5], Step [300/600], Loss: 0.0750\n",
            "Epoch [4/5], Step [400/600], Loss: 0.0241\n",
            "Epoch [4/5], Step [500/600], Loss: 0.0105\n",
            "Epoch [4/5], Step [600/600], Loss: 0.0221\n",
            "Epoch [5/5], Step [100/600], Loss: 0.0825\n",
            "Epoch [5/5], Step [200/600], Loss: 0.0370\n",
            "Epoch [5/5], Step [300/600], Loss: 0.0445\n",
            "Epoch [5/5], Step [400/600], Loss: 0.0505\n",
            "Epoch [5/5], Step [500/600], Loss: 0.0220\n",
            "Epoch [5/5], Step [600/600], Loss: 0.0512\n"
          ],
          "name": "stdout"
        }
      ]
    },
    {
      "cell_type": "code",
      "metadata": {
        "colab": {
          "base_uri": "https://localhost:8080/"
        },
        "id": "B-XG0mqRfCqW",
        "outputId": "869240ba-08e7-45f3-831d-62f836f1c964"
      },
      "source": [
        "# Test the model\n",
        "# In test phase, we don't need to compute gradients (for memory efficiency)\n",
        "with torch.no_grad():\n",
        "  correct = 0\n",
        "  total = 0\n",
        "  for images, labels in test_loader:\n",
        "    images = images.reshape(-1, 28 * 28).to(device)\n",
        "    labels = labels.to(device)\n",
        "    outputs = model(images)\n",
        "    _, predicted = torch.max(outputs.data, 1)\n",
        "    total += labels.size(0)\n",
        "    correct += (predicted == labels).sum().item()\n",
        "\n",
        "  print(\"Accuracy of the network on the 10000 test images: {} %\".format(100 * correct / total))\n",
        "\n",
        "# Save the model checkpoint\n",
        "torch.save(model.state_dict(), 'model.ckpt')"
      ],
      "execution_count": 26,
      "outputs": [
        {
          "output_type": "stream",
          "text": [
            "Accuracy of the network on the 10000 test images: 97.74 %\n"
          ],
          "name": "stdout"
        }
      ]
    }
  ]
}