{
  "nbformat": 4,
  "nbformat_minor": 0,
  "metadata": {
    "colab": {
      "name": "[Intermediate]_Recurrent_Neural_Network.ipynb",
      "provenance": [],
      "collapsed_sections": [],
      "authorship_tag": "ABX9TyOI8nB5bKgwvr6b1oZ+rGOb",
      "include_colab_link": true
    },
    "kernelspec": {
      "name": "python3",
      "display_name": "Python 3"
    },
    "language_info": {
      "name": "python"
    },
    "accelerator": "GPU"
  },
  "cells": [
    {
      "cell_type": "markdown",
      "metadata": {
        "id": "view-in-github",
        "colab_type": "text"
      },
      "source": [
        "<a href=\"https://colab.research.google.com/github/vvvu/potential-chainsaw/blob/main/pytorch-tutorial/%5BIntermediate%5D_Recurrent_Neural_Network.ipynb\" target=\"_parent\"><img src=\"https://colab.research.google.com/assets/colab-badge.svg\" alt=\"Open In Colab\"/></a>"
      ]
    },
    {
      "cell_type": "code",
      "metadata": {
        "id": "FhmbLMipbvdD"
      },
      "source": [
        "import torch\n",
        "import torch.nn as nn\n",
        "import torchvision\n",
        "import torchvision.transforms as transforms"
      ],
      "execution_count": 1,
      "outputs": []
    },
    {
      "cell_type": "code",
      "metadata": {
        "id": "_ngz4Gm5b2O4"
      },
      "source": [
        "device = torch.device('cuda' if torch.cuda.is_available() else 'cpu')\n",
        "\n",
        "# Hyper Parameters\n",
        "sequence_length = 28\n",
        "input_size = 28\n",
        "hidden_size = 128\n",
        "num_layers = 2\n",
        "num_classes = 10\n",
        "batch_size = 100\n",
        "num_epochs = 2\n",
        "learning_rate = 0.01"
      ],
      "execution_count": 2,
      "outputs": []
    },
    {
      "cell_type": "code",
      "metadata": {
        "id": "ikueHBWNb_-g"
      },
      "source": [
        "# MNIST dataset\n",
        "train_dataset = torchvision.datasets.MNIST(root='../../data/',\n",
        "                                           train=True, \n",
        "                                           transform=transforms.ToTensor(),\n",
        "                                           download=True)\n",
        "\n",
        "test_dataset = torchvision.datasets.MNIST(root='../../data/',\n",
        "                                          train=False, \n",
        "                                          transform=transforms.ToTensor())\n",
        "\n",
        "# Data loader\n",
        "train_loader = torch.utils.data.DataLoader(dataset=train_dataset,\n",
        "                                           batch_size=batch_size, \n",
        "                                           shuffle=True)\n",
        "\n",
        "test_loader = torch.utils.data.DataLoader(dataset=test_dataset,\n",
        "                                          batch_size=batch_size, \n",
        "                                          shuffle=False)"
      ],
      "execution_count": 10,
      "outputs": []
    },
    {
      "cell_type": "code",
      "metadata": {
        "id": "aA6oS7vFcBCt"
      },
      "source": [
        "# Recurrent Neural Network\n",
        "\n",
        "'''\n",
        "1. 实际上，MNIST任务用CNN这类神经网络效果更好，但这里也可以强行使用RNN/LSTM来完成任务\n",
        "2. MNIST图片大小为28 * 28，可以将每张图片看作是length = 28的sequence，且序列中\n",
        "每个元素的features = 28，我们将最后输出的隐藏状态hT作为抽象的隐藏特征输入全连接层进行分类\n",
        "'''\n",
        "class RNN(nn.Module):\n",
        "  def __init__(self, input_size, hidden_size, num_layers, num_classes):\n",
        "    super(RNN, self).__init__()\n",
        "    self.hidden_size = hidden_size\n",
        "    self.num_layers = num_layers\n",
        "    self.lstm = nn.LSTM(input_size, hidden_size, num_layers, batch_first = True)\n",
        "    '''\n",
        "    nn.LSTM()\n",
        "    - input_size: 输入特征的数目，根据前文定义这里定义为features = 28\n",
        "    - hidden_size: 隐藏层的特征数目，这里定义为128\n",
        "    - num_layers: 模型集成的LSTM的个数\n",
        "    - bias: 是否使用bias，默认使用\n",
        "    - batch_first: 默认为False，若为True，则输入/输出的格式为(batch_size, time_step, input_size)\n",
        "      即[batch大小，序列长度，特征数目]。\n",
        "    - dropout: 默认为0，非0则为dropout率\n",
        "    - bidirectional: 是否为双向LSTM，默认为否\n",
        "    '''\n",
        "    self.fc = nn.Linear(hidden_size, num_classes)\n",
        "\n",
        "  def forward(self, x):\n",
        "    # Set initial hidden and cell states\n",
        "    h0 = torch.zeros(self.num_layers, x.size(0), self.hidden_size).to(device)\n",
        "    c0 = torch.zeros(self.num_layers, x.size(0), self.hidden_size).to(device)\n",
        "    '''\n",
        "    - h_0 of shape(num_layers*num_directions, batch, hidden_size): tensor containing\n",
        "    the [initial hidden state] for each element in the batch. If the LSTM is\n",
        "    bidirectional, num_directions should be 2, else it should be 1.\n",
        "\n",
        "    - c_0 of shape(num_layers*num_directions, batch, hidden_size): tensor containing\n",
        "    the [intial cell state] for each element in the batch.\n",
        "\n",
        "    if (h0, c0) is not provided, both h0 and c0 default to zero.\n",
        "    '''\n",
        "\n",
        "    # Forward propagate LSTM\n",
        "    out, _ = self.lstm(x, (h0, c0))\n",
        "    '''\n",
        "    out: tensor of shape (batch_size, seq_length, hidden_size)\n",
        "\n",
        "    1. 输入格式为 lstm(input, (h0, c0))\n",
        "    - 如果batch_first = True，则input = x = (batch, seq_len, input_size)，如果为False，\n",
        "    则input = x = (seq_len, batch, input_size)\n",
        "    - h0代表每个元素最初的隐状态值\n",
        "    - c0代表每个元素最初的cell state\n",
        "    2. 输出格式为 (output, (hn, cn))\n",
        "    - 这里用out, _的形式进行了解包，因为我们更关注output而非hn和cn\n",
        "    - output是形状为(seq_len, batch, num_directions * hidden_size)的tensor，包含输出特征\n",
        "    最后输出到self.fc层中\n",
        "    - hn和cn分别代表序列末尾的隐状态值和cell state\n",
        "    '''\n",
        "\n",
        "    # Decode the hidden state of the last time step\n",
        "    out = self.fc(out[:, -1, :])\n",
        "    return out"
      ],
      "execution_count": 4,
      "outputs": []
    },
    {
      "cell_type": "code",
      "metadata": {
        "id": "WdWVBkHXclfw"
      },
      "source": [
        "model = RNN(input_size, hidden_size, num_layers, num_classes).to(device)"
      ],
      "execution_count": 5,
      "outputs": []
    },
    {
      "cell_type": "code",
      "metadata": {
        "id": "_12e6DZ7csXX"
      },
      "source": [
        "# Loss and optimizer\n",
        "criterion = nn.CrossEntropyLoss()\n",
        "optimizer = torch.optim.Adam(model.parameters(), lr = learning_rate)"
      ],
      "execution_count": 6,
      "outputs": []
    },
    {
      "cell_type": "code",
      "metadata": {
        "colab": {
          "base_uri": "https://localhost:8080/"
        },
        "id": "3FHrkXrvcxrr",
        "outputId": "13c73a54-3cfb-4e9c-b002-e9bc2e7d03bb"
      },
      "source": [
        "# Train the model\n",
        "total_step = len(train_loader)\n",
        "for epoch in range(num_epochs):\n",
        "    for i, (images, labels) in enumerate(train_loader):\n",
        "        images = images.reshape(-1, sequence_length, input_size).to(device)\n",
        "        labels = labels.to(device)\n",
        "        \n",
        "        # Forward pass\n",
        "        outputs = model(images)\n",
        "        loss = criterion(outputs, labels)\n",
        "        \n",
        "        # Backward and optimize\n",
        "        optimizer.zero_grad()\n",
        "        loss.backward()\n",
        "        optimizer.step()\n",
        "        \n",
        "        if (i+1) % 100 == 0:\n",
        "            print ('Epoch [{}/{}], Step [{}/{}], Loss: {:.4f}' \n",
        "                   .format(epoch+1, num_epochs, i+1, total_step, loss.item()))"
      ],
      "execution_count": 7,
      "outputs": [
        {
          "output_type": "stream",
          "text": [
            "Epoch [1/2], Step [100/600], Loss: 0.6691\n",
            "Epoch [1/2], Step [200/600], Loss: 0.2543\n",
            "Epoch [1/2], Step [300/600], Loss: 0.4003\n",
            "Epoch [1/2], Step [400/600], Loss: 0.1512\n",
            "Epoch [1/2], Step [500/600], Loss: 0.1551\n",
            "Epoch [1/2], Step [600/600], Loss: 0.2048\n",
            "Epoch [2/2], Step [100/600], Loss: 0.1912\n",
            "Epoch [2/2], Step [200/600], Loss: 0.0758\n",
            "Epoch [2/2], Step [300/600], Loss: 0.0212\n",
            "Epoch [2/2], Step [400/600], Loss: 0.0673\n",
            "Epoch [2/2], Step [500/600], Loss: 0.0245\n",
            "Epoch [2/2], Step [600/600], Loss: 0.0541\n"
          ],
          "name": "stdout"
        }
      ]
    },
    {
      "cell_type": "code",
      "metadata": {
        "colab": {
          "base_uri": "https://localhost:8080/"
        },
        "id": "xwZaLDh_c0lH",
        "outputId": "3262944b-ede6-43e3-be07-5998c29df498"
      },
      "source": [
        "# Test the model\n",
        "model.eval()\n",
        "with torch.no_grad():\n",
        "    correct = 0\n",
        "    total = 0\n",
        "    for images, labels in test_loader:\n",
        "        images = images.reshape(-1, sequence_length, input_size).to(device)\n",
        "        labels = labels.to(device)\n",
        "        outputs = model(images)\n",
        "        _, predicted = torch.max(outputs.data, 1)\n",
        "        total += labels.size(0)\n",
        "        correct += (predicted == labels).sum().item()\n",
        "\n",
        "    print('Test Accuracy of the model on the 10000 test images: {} %'.format(100 * correct / total)) "
      ],
      "execution_count": 8,
      "outputs": [
        {
          "output_type": "stream",
          "text": [
            "Test Accuracy of the model on the 10000 test images: 97.68 %\n"
          ],
          "name": "stdout"
        }
      ]
    },
    {
      "cell_type": "code",
      "metadata": {
        "id": "7eTOh11zc2OP"
      },
      "source": [
        "# Save the model checkpoint\n",
        "torch.save(model.state_dict(), 'model.ckpt')"
      ],
      "execution_count": 9,
      "outputs": []
    }
  ]
}