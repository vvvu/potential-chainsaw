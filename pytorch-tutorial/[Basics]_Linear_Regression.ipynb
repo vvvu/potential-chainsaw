{
  "nbformat": 4,
  "nbformat_minor": 0,
  "metadata": {
    "colab": {
      "name": "[Basics]_Linear_Regression.ipynb",
      "provenance": [],
      "collapsed_sections": [],
      "authorship_tag": "ABX9TyMXMcLxAj6I8nfNuISX0HPi",
      "include_colab_link": true
    },
    "kernelspec": {
      "name": "python3",
      "display_name": "Python 3"
    },
    "language_info": {
      "name": "python"
    }
  },
  "cells": [
    {
      "cell_type": "markdown",
      "metadata": {
        "id": "view-in-github",
        "colab_type": "text"
      },
      "source": [
        "<a href=\"https://colab.research.google.com/github/vvvu/potential-chainsaw/blob/main/pytorch-tutorial/%5BBasics%5D_Linear_Regression.ipynb\" target=\"_parent\"><img src=\"https://colab.research.google.com/assets/colab-badge.svg\" alt=\"Open In Colab\"/></a>"
      ]
    },
    {
      "cell_type": "code",
      "metadata": {
        "colab": {
          "base_uri": "https://localhost:8080/",
          "height": 469
        },
        "id": "jEKf1QWKIkHr",
        "outputId": "66adb1f8-4e78-4e0f-be91-aa7181d6085b"
      },
      "source": [
        "import torch\n",
        "import torch.nn as nn\n",
        "import numpy as np\n",
        "import matplotlib.pyplot as plt\n",
        "\n",
        "# Hyper Parameters\n",
        "input_size = 1\n",
        "output_size = 1\n",
        "num_epochs = 60\n",
        "learning_rate = 0.001\n",
        "\n",
        "# Toy dataset\n",
        "x_train = np.array([[3.3], [4.4], [5.5], [6.71], [6.93], [4.168], \n",
        "                    [9.779], [6.182], [7.59], [2.167], [7.042], \n",
        "                    [10.791], [5.313], [7.997], [3.1]], dtype=np.float32)\n",
        "\n",
        "y_train = np.array([[1.7], [2.76], [2.09], [3.19], [1.694], [1.573], \n",
        "                    [3.366], [2.596], [2.53], [1.221], [2.827], \n",
        "                    [3.465], [1.65], [2.904], [1.3]], dtype=np.float32)\n",
        "\n",
        "# Linear regression model\n",
        "'''\n",
        "x -> y, 线性模型\n",
        "'''\n",
        "model = nn.Linear(input_size, output_size)\n",
        "\n",
        "# Loss and optimizer\n",
        "criterion = nn.MSELoss()\n",
        "optimizer = torch.optim.SGD(model.parameters(), lr = learning_rate)\n",
        "\n",
        "# Train the model\n",
        "for epoch in range(num_epochs):\n",
        "  # Numpy array -> Torch tensor\n",
        "  inputs = torch.from_numpy(x_train)\n",
        "  targets = torch.from_numpy(y_train)\n",
        "\n",
        "  # Forward pass\n",
        "  outputs = model(inputs)\n",
        "  loss = criterion(outputs, targets)\n",
        "\n",
        "  # Backward and optimize\n",
        "  optimizer.zero_grad()\n",
        "  '''\n",
        "  Set the gradients of all optimizer torch.Tensor s to zero\n",
        "  - 梯度清零：由于pytorch的动态计算图，当我们使用loss.backward()和opimizer.step()\n",
        "  进行梯度下降更新参数的时候，梯度并不会自动清零。并且这两个操作是独立操作。所以这里我们需要\n",
        "  手动进行一次清零\n",
        "  - In PyTorch, we need to set the gradients to 0 before starting to do BP \n",
        "  because PyTorch accumulates the gradietns on subsequent backward passes.\n",
        "  '''\n",
        "  loss.backward()\n",
        "  optimizer.step() # Update all parameters\n",
        "\n",
        "  if (epoch + 1) % 5 == 0:\n",
        "    print ('Epoch [{}/{}], Loss: {:.4f}'.format(epoch+1, num_epochs, loss.item()))\n",
        "\n",
        "# Plot the graph\n",
        "predicted = model(torch.from_numpy(x_train)).detach().numpy()\n",
        "'''\n",
        "- It has been firmly established that 'tensor.detach().numpy()' is the correct\n",
        "way to get a numpy array from a 'torch' tensor\n",
        "- Related Question => https://stackoverflow.com/questions/63582590/why-do-we-call-detach-before-calling-numpy-on-a-pytorch-tensor\n",
        "'''\n",
        "plt.plot(x_train, y_train, 'ro', label = 'Original data')\n",
        "plt.plot(x_train, predicted, label = 'Fitted line')\n",
        "plt.legend()\n",
        "plt.show()\n",
        "\n",
        "# Save the model checkpoint\n",
        "torch.save(model.state_dict(), 'model.ckpt')"
      ],
      "execution_count": 2,
      "outputs": [
        {
          "output_type": "stream",
          "text": [
            "Epoch [5/60], Loss: 0.9299\n",
            "Epoch [10/60], Loss: 0.5525\n",
            "Epoch [15/60], Loss: 0.3995\n",
            "Epoch [20/60], Loss: 0.3373\n",
            "Epoch [25/60], Loss: 0.3119\n",
            "Epoch [30/60], Loss: 0.3014\n",
            "Epoch [35/60], Loss: 0.2970\n",
            "Epoch [40/60], Loss: 0.2950\n",
            "Epoch [45/60], Loss: 0.2940\n",
            "Epoch [50/60], Loss: 0.2934\n",
            "Epoch [55/60], Loss: 0.2930\n",
            "Epoch [60/60], Loss: 0.2926\n"
          ],
          "name": "stdout"
        },
        {
          "output_type": "display_data",
          "data": {
            "image/png": "[encoded data removed]",
            "text/plain": [
              "<Figure size 432x288 with 1 Axes>"
            ]
          },
          "metadata": {
            "tags": [],
            "needs_background": "light"
          }
        }
      ]
    }
  ]
}